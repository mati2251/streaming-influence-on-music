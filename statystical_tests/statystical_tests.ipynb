{
 "cells": [
  {
   "attachments": {},
   "cell_type": "markdown",
   "metadata": {},
   "source": [
    "# Testy Statysyczne\n",
    "### Wczytanie danych"
   ]
  },
  {
   "cell_type": "code",
   "execution_count": 30,
   "metadata": {},
   "outputs": [
    {
     "data": {
      "text/html": [
       "<div>\n",
       "<style scoped>\n",
       "    .dataframe tbody tr th:only-of-type {\n",
       "        vertical-align: middle;\n",
       "    }\n",
       "\n",
       "    .dataframe tbody tr th {\n",
       "        vertical-align: top;\n",
       "    }\n",
       "\n",
       "    .dataframe thead th {\n",
       "        text-align: right;\n",
       "    }\n",
       "</style>\n",
       "<table border=\"1\" class=\"dataframe\">\n",
       "  <thead>\n",
       "    <tr style=\"text-align: right;\">\n",
       "      <th></th>\n",
       "      <th>artysci</th>\n",
       "      <th>tytuly</th>\n",
       "      <th>data</th>\n",
       "      <th>najwyzsza-pozycja</th>\n",
       "      <th>liczba-tygodni-w-notowaniu</th>\n",
       "    </tr>\n",
       "  </thead>\n",
       "  <tbody>\n",
       "    <tr>\n",
       "      <th>0</th>\n",
       "      <td>\"Groove\" Holmes</td>\n",
       "      <td>Misty</td>\n",
       "      <td>1966-09-03</td>\n",
       "      <td>44</td>\n",
       "      <td>11</td>\n",
       "    </tr>\n",
       "    <tr>\n",
       "      <th>1</th>\n",
       "      <td>\"Groove\" Holmes</td>\n",
       "      <td>What Now My Love</td>\n",
       "      <td>1966-10-15</td>\n",
       "      <td>96</td>\n",
       "      <td>3</td>\n",
       "    </tr>\n",
       "    <tr>\n",
       "      <th>2</th>\n",
       "      <td>\"Little\" Jimmy Dickens</td>\n",
       "      <td>May The Bird Of Paradise Fly Up Your Nose</td>\n",
       "      <td>1965-12-18</td>\n",
       "      <td>15</td>\n",
       "      <td>10</td>\n",
       "    </tr>\n",
       "    <tr>\n",
       "      <th>3</th>\n",
       "      <td>\"Pookie\" Hudson</td>\n",
       "      <td>I Know I Know</td>\n",
       "      <td>1963-05-25</td>\n",
       "      <td>96</td>\n",
       "      <td>1</td>\n",
       "    </tr>\n",
       "    <tr>\n",
       "      <th>4</th>\n",
       "      <td>\"Weird Al\" Yankovic</td>\n",
       "      <td>Amish Paradise</td>\n",
       "      <td>1996-07-13</td>\n",
       "      <td>53</td>\n",
       "      <td>16</td>\n",
       "    </tr>\n",
       "  </tbody>\n",
       "</table>\n",
       "</div>"
      ],
      "text/plain": [
       "                  artysci                                     tytuly   \n",
       "0         \"Groove\" Holmes                                      Misty  \\\n",
       "1         \"Groove\" Holmes                           What Now My Love   \n",
       "2  \"Little\" Jimmy Dickens  May The Bird Of Paradise Fly Up Your Nose   \n",
       "3         \"Pookie\" Hudson                              I Know I Know   \n",
       "4     \"Weird Al\" Yankovic                             Amish Paradise   \n",
       "\n",
       "         data  najwyzsza-pozycja  liczba-tygodni-w-notowaniu  \n",
       "0  1966-09-03                 44                          11  \n",
       "1  1966-10-15                 96                           3  \n",
       "2  1965-12-18                 15                          10  \n",
       "3  1963-05-25                 96                           1  \n",
       "4  1996-07-13                 53                          16  "
      ]
     },
     "metadata": {},
     "output_type": "display_data"
    },
    {
     "data": {
      "text/html": [
       "<div>\n",
       "<style scoped>\n",
       "    .dataframe tbody tr th:only-of-type {\n",
       "        vertical-align: middle;\n",
       "    }\n",
       "\n",
       "    .dataframe tbody tr th {\n",
       "        vertical-align: top;\n",
       "    }\n",
       "\n",
       "    .dataframe thead th {\n",
       "        text-align: right;\n",
       "    }\n",
       "</style>\n",
       "<table border=\"1\" class=\"dataframe\">\n",
       "  <thead>\n",
       "    <tr style=\"text-align: right;\">\n",
       "      <th></th>\n",
       "      <th>artysci</th>\n",
       "      <th>tytul</th>\n",
       "      <th>data</th>\n",
       "      <th>akustycznosc</th>\n",
       "      <th>tanecznosc</th>\n",
       "      <th>czas-trwania-m</th>\n",
       "      <th>energia</th>\n",
       "      <th>instrumentalnosc</th>\n",
       "      <th>wykonanie-na-zywo</th>\n",
       "      <th>lirycznosc</th>\n",
       "    </tr>\n",
       "  </thead>\n",
       "  <tbody>\n",
       "    <tr>\n",
       "      <th>0</th>\n",
       "      <td>\"Weird Al\" Yankovic</td>\n",
       "      <td>White &amp; Nerdy (Parody of \"Ridin'\" by Chamillio...</td>\n",
       "      <td>2006-10-21</td>\n",
       "      <td>0.0986</td>\n",
       "      <td>0.791</td>\n",
       "      <td>2.844000</td>\n",
       "      <td>0.613</td>\n",
       "      <td>0.000000</td>\n",
       "      <td>0.0765</td>\n",
       "      <td>0.0763</td>\n",
       "    </tr>\n",
       "    <tr>\n",
       "      <th>1</th>\n",
       "      <td>$uicideboy$</td>\n",
       "      <td>...And to Those I Love, Thanks for Sticking Ar...</td>\n",
       "      <td>2019-03-09</td>\n",
       "      <td>0.1240</td>\n",
       "      <td>0.792</td>\n",
       "      <td>2.808167</td>\n",
       "      <td>0.511</td>\n",
       "      <td>0.000090</td>\n",
       "      <td>0.1400</td>\n",
       "      <td>0.0409</td>\n",
       "    </tr>\n",
       "    <tr>\n",
       "      <th>2</th>\n",
       "      <td>'68 Comeback</td>\n",
       "      <td>Peepin' &amp; Hidin' / Baby What You Want Me to Do</td>\n",
       "      <td>1983-03-12</td>\n",
       "      <td>0.0247</td>\n",
       "      <td>0.373</td>\n",
       "      <td>3.904883</td>\n",
       "      <td>0.691</td>\n",
       "      <td>0.024800</td>\n",
       "      <td>0.2120</td>\n",
       "      <td>0.0316</td>\n",
       "    </tr>\n",
       "    <tr>\n",
       "      <th>3</th>\n",
       "      <td>'Til Tuesday</td>\n",
       "      <td>Voices Carry</td>\n",
       "      <td>1985-07-13</td>\n",
       "      <td>0.0282</td>\n",
       "      <td>0.583</td>\n",
       "      <td>4.392883</td>\n",
       "      <td>0.574</td>\n",
       "      <td>0.000002</td>\n",
       "      <td>0.1140</td>\n",
       "      <td>0.0239</td>\n",
       "    </tr>\n",
       "    <tr>\n",
       "      <th>4</th>\n",
       "      <td>*NSYNC</td>\n",
       "      <td>(God Must Have Spent) A Little More Time On Yo...</td>\n",
       "      <td>1999-03-06</td>\n",
       "      <td>0.4490</td>\n",
       "      <td>0.375</td>\n",
       "      <td>4.024883</td>\n",
       "      <td>0.527</td>\n",
       "      <td>0.000000</td>\n",
       "      <td>0.3050</td>\n",
       "      <td>0.0507</td>\n",
       "    </tr>\n",
       "  </tbody>\n",
       "</table>\n",
       "</div>"
      ],
      "text/plain": [
       "               artysci                                              tytul   \n",
       "0  \"Weird Al\" Yankovic  White & Nerdy (Parody of \"Ridin'\" by Chamillio...  \\\n",
       "1          $uicideboy$  ...And to Those I Love, Thanks for Sticking Ar...   \n",
       "2         '68 Comeback     Peepin' & Hidin' / Baby What You Want Me to Do   \n",
       "3         'Til Tuesday                                       Voices Carry   \n",
       "4               *NSYNC  (God Must Have Spent) A Little More Time On Yo...   \n",
       "\n",
       "         data  akustycznosc  tanecznosc  czas-trwania-m  energia   \n",
       "0  2006-10-21        0.0986       0.791        2.844000    0.613  \\\n",
       "1  2019-03-09        0.1240       0.792        2.808167    0.511   \n",
       "2  1983-03-12        0.0247       0.373        3.904883    0.691   \n",
       "3  1985-07-13        0.0282       0.583        4.392883    0.574   \n",
       "4  1999-03-06        0.4490       0.375        4.024883    0.527   \n",
       "\n",
       "   instrumentalnosc  wykonanie-na-zywo  lirycznosc  \n",
       "0          0.000000             0.0765      0.0763  \n",
       "1          0.000090             0.1400      0.0409  \n",
       "2          0.024800             0.2120      0.0316  \n",
       "3          0.000002             0.1140      0.0239  \n",
       "4          0.000000             0.3050      0.0507  "
      ]
     },
     "metadata": {},
     "output_type": "display_data"
    }
   ],
   "source": [
    "import pandas as pd\n",
    "from scipy import stats\n",
    "import matplotlib.pyplot as plt\n",
    "songs = pd.read_csv('../data_sets/songs.csv')\n",
    "songs.columns = ['artysci', 'tytuly', 'data', 'najwyzsza-pozycja', 'liczba-tygodni-w-notowaniu']\n",
    "display(songs.head())\n",
    "\n",
    "songs_top_10 = pd.read_csv('../data_sets/songs_top_10.csv')\n",
    "songs_top_10['duration_ms'] = songs_top_10['duration_ms'].apply(lambda x: x / 1000 / 60)\n",
    "songs_top_10.rename(columns={'duration_ms': 'duration'}, inplace=True)\n",
    "songs_top_10.columns = ['artysci','tytul','data', 'akustycznosc', 'tanecznosc', 'czas-trwania-m', 'energia', 'instrumentalnosc', 'wykonanie-na-zywo', 'lirycznosc']\n",
    "display(songs_top_10.head())"
   ]
  },
  {
   "attachments": {},
   "cell_type": "markdown",
   "metadata": {},
   "source": [
    "\n",
    "## Wprowadzenie MP3 a liczba tygodni na liście\n",
    "Na wykresach widać że średnia liczba tygodni notowaniu zwiększyła się wraz z wprowadzeniem MP3. Sprawdzimy czy jest to różnica statystycznie istotna.\n",
    "### Wybór testu\n",
    "Mamy dwie próby niezależne, skale przedziałową, musimy sprawdzić czy dane są opisane rozkłądem normalnym. W tym celu użyjemy testu Shapiro-Wilka (próba ma więcej niz 5000 więc test ten może być użyty). Jeśli dane nie są opisane rozkładem normalnym, użyjemy testu nieparametrycznego Mann-Whitneya. Jeśli dane są opisane rozkładem normalnym, użyjemy testu t-Studenta.\n",
    "### Test Shapiro-Wilka\n",
    "$H_0$ - dane są opisane rozkładem normalnym <br>\n",
    "$H_1$ - dane nie są opisane rozkładem normalnym <br>\n",
    "$\\alpha = 0.5$"
   ]
  },
  {
   "cell_type": "code",
   "execution_count": 8,
   "metadata": {},
   "outputs": [
    {
     "name": "stdout",
     "output_type": "stream",
     "text": [
      "Statystyka testowa: 0.903465211391449\n",
      "Wartość p-value: 0.0\n",
      "Dane nie wydają się pochodzić z rozkładu normalnego.\n"
     ]
    }
   ],
   "source": [
    "data = songs['liczba-tygodni-w-notowaniu']\n",
    "stat, p_value = stats.shapiro(data)\n",
    "print(\"Statystyka testowa:\", stat)\n",
    "print(\"Wartość p-value:\", p_value)\n",
    "alpha = 0.05\n",
    "if p_value > alpha:\n",
    "    print(\"Dane wydają się pochodzić z rozkładu normalnego.\")\n",
    "else:\n",
    "    print(\"Dane nie wydają się pochodzić z rozkładu normalnego.\")"
   ]
  },
  {
   "attachments": {},
   "cell_type": "markdown",
   "metadata": {},
   "source": [
    "### Wybór testu c.d.\n",
    "Z testu Shapiro-Wilka wynika, że dane nie są opisane rozkładem normalnym, więc użyjemy testu nieparametrycznego Mann-Whitneya.\n",
    "### Test Mann-Whitneya\n",
    "**$H_0$** - nie ma istotnej różnicy pomiedzy dwoma populacjiami <br>\n",
    "**$H_1$** - istnieje istotna różnica pomiedzy dwoma populacjami <br>\n",
    "**Grupa 1** - przed mp3(do 2000) <br>\n",
    "**Grupa 2** - po mp3(od 2000) <br>\n",
    "$\\alpha = 0.5$"
   ]
  },
  {
   "cell_type": "code",
   "execution_count": 21,
   "metadata": {},
   "outputs": [
    {
     "name": "stdout",
     "output_type": "stream",
     "text": [
      "Statystyka testowa U: 91431488.0\n",
      "Wartość p-value: 0.0000501768\n",
      "Obserwowane różnice między grupami są istotne.\n"
     ]
    }
   ],
   "source": [
    "songs['data'] = pd.to_datetime(songs['data'])\n",
    "data1 = songs[songs['data'] < '2000-01-01']\n",
    "data2 = songs[songs['data'] >= '2000-01-01']\n",
    "stat, p_value = stats.mannwhitneyu(data1['liczba-tygodni-w-notowaniu'], data2['liczba-tygodni-w-notowaniu'])\n",
    "print(\"Statystyka testowa U:\", stat)\n",
    "# pvalue z naukowej notacji do zwykłej\n",
    "print(\"Wartość p-value:\", '%.10f' % p_value)\n",
    "alpha = 0.05\n",
    "if p_value > alpha:\n",
    "    print(\"Brak istotnych różnic między grupami.\")\n",
    "else:\n",
    "    print(\"Obserwowane różnice między grupami są istotne.\")"
   ]
  },
  {
   "attachments": {},
   "cell_type": "markdown",
   "metadata": {},
   "source": [
    "### Wnioski\n",
    "P-value jest mniejsze od $\\alpha$, więc odrzucamy $H_0$ na rzecz $H_1$. Istnieje istotna różnica w liczbie tygodni na liście przed i po wprowadzeniu mp3. Po wprowadzeniu mp3 liczba tygodni na liście jest większa i może to być spowodowane nowym medium słuchania muzyki. Może to wynikać z zwiększenia dostępności do muzyki co za tym idzie większą liczbą słuchaczy."
   ]
  },
  {
   "attachments": {},
   "cell_type": "markdown",
   "metadata": {},
   "source": [
    "## Pojawienie się nowych instrumentów i technologi a muzyka akustycza\n",
    "Wraz z pojawieniem się nowych instrumentów i technologi muzyka stała się bardziej elektroniczna, zaczeły pojawiać się nowe instrumenty. Według wykresów widać ustępstwo muzyki akustycznej. Sprawdzimy czy jest to różnica statystycznie istotna. Wprowadzenie nowych instrumetów szacuje się na rok 1960/1970.\n",
    "### Wybór testu\n",
    "Tak jak poprzednio sprawdzimy czy dane są opisane rozkłądem normalnym (test Shapiro-Wilka). Jeśli dane nie są opisane rozkładem normalnym, użyjemy testu nieparametrycznego Mann-Whitneya. Jeśli dane są opisane rozkładem normalnym, użyjemy testu t-Studenta.\n",
    "### Test Shapiro-Wilka\n",
    "$H_0$ - dane są opisane rozkładem normalnym <br>\n",
    "$H_1$ - dane nie są opisane rozkładem normalnym <br>\n",
    "$\\alpha = 0.5$"
   ]
  },
  {
   "cell_type": "code",
   "execution_count": 31,
   "metadata": {},
   "outputs": [
    {
     "name": "stdout",
     "output_type": "stream",
     "text": [
      "Statystyka testowa: 0.8817464113235474\n",
      "Wartość p-value: 0.0\n",
      "Dane nie wydają się pochodzić z rozkładu normalnego.\n"
     ]
    }
   ],
   "source": [
    "data = songs_top_10['akustycznosc']\n",
    "stat, p_value = stats.shapiro(data)\n",
    "print(\"Statystyka testowa:\", stat)\n",
    "print(\"Wartość p-value:\", p_value)\n",
    "alpha = 0.05\n",
    "if p_value > alpha:\n",
    "    print(\"Dane wydają się pochodzić z rozkładu normalnego.\")\n",
    "else:\n",
    "    print(\"Dane nie wydają się pochodzić z rozkładu normalnego.\")"
   ]
  },
  {
   "attachments": {},
   "cell_type": "markdown",
   "metadata": {},
   "source": [
    "### Wybór testu c.d.\n",
    "Ponownie dane nie są opisane rozkładem normalnym dlatego wybieramy test nieparametryczny Mann-Whitneya.\n",
    "### Test Mann-Whitneya\n",
    "**$H_0$** - nie ma istotnej różnicy pomiedzy dwoma populacjiami <br>\n",
    "**$H_1$** - istnieje istotna różnica pomiedzy dwoma populacjami <br>\n",
    "**Grupa 1** - przed 1965(przed instrumentami elektrycznymi) <br>\n",
    "**Grupa 2** - po 1965(po instrumentami elektrycznymi) <br>\n",
    "$\\alpha = 0.5$"
   ]
  },
  {
   "cell_type": "code",
   "execution_count": 33,
   "metadata": {},
   "outputs": [
    {
     "name": "stdout",
     "output_type": "stream",
     "text": [
      "Statystyka testowa U: 2252126.5\n",
      "Wartość p-value: 0.0000000000\n",
      "Obserwowane różnice między grupami są istotne.\n"
     ]
    }
   ],
   "source": [
    "songs_top_10['data'] = pd.to_datetime(songs_top_10['data'])\n",
    "data1 = songs_top_10[songs_top_10['data'] < '1965-01-01']\n",
    "data2 = songs_top_10[songs_top_10['data'] >= '1965-01-01']\n",
    "stat, p_value = stats.mannwhitneyu(data1['akustycznosc'], data2['akustycznosc'])\n",
    "print(\"Statystyka testowa U:\", stat)\n",
    "print(\"Wartość p-value:\", '%.10f' % p_value)\n",
    "alpha = 0.05\n",
    "if p_value > alpha:\n",
    "    print(\"Brak istotnych różnic między grupami.\")\n",
    "else:\n",
    "    print(\"Obserwowane różnice między grupami są istotne.\")"
   ]
  },
  {
   "attachments": {},
   "cell_type": "markdown",
   "metadata": {},
   "source": [
    "### Wnioski\n",
    "P-value jest mniejsze niż alpha więc odrzucamy $H_0$ na rzecz $H_1$. Istnieje istotna różnica w akustyczności utworów przed nowymi instrumentami oraz po. Po wprowadzeniu nowych instrumentów muzyka stała się bardziej elektroniczna.\n",
    "### Serwisy Streamingowe a muzyka\n",
    "Od 2010 roku serwisy streamingowe zaczeły dominować na rynku muzyki. Zmienił sie sposób dystrybucji muzyki oraz zarobku dla artystów. Od tego czasu liczy się przyciągnięcie słuchacza przez conajmniej 30 sekund. Niektórzy twierdzą że spowodowało to coraz więcej muzyki z szybko wchodzącym wokalem oraz dominującym wokalem. Sprawdzmy czy jest to różnica statystycznie istotna na podstawie liryczność, instrumentalności oraz długości trwania utworu.\n",
    "### Liryczność a serwisy streamingowe\n",
    "#### Wybór testu\n",
    "Powtarzamy krok pierwszy z poprzednich testów.\n",
    "#### Test Shapiro-Wilka\n",
    "$H_0$ - dane są opisane rozkładem normalnym <br>\n",
    "$H_1$ - dane nie są opisane rozkładem normalnym <br>\n",
    "$\\alpha = 0.5$"
   ]
  },
  {
   "cell_type": "code",
   "execution_count": 34,
   "metadata": {},
   "outputs": [
    {
     "name": "stdout",
     "output_type": "stream",
     "text": [
      "Statystyka testowa: 0.557726263999939\n",
      "Wartość p-value: 0.0\n",
      "Dane nie wydają się pochodzić z rozkładu normalnego.\n"
     ]
    }
   ],
   "source": [
    "data = songs_top_10['lirycznosc']\n",
    "stat, p_value = stats.shapiro(data)\n",
    "print(\"Statystyka testowa:\", stat)\n",
    "print(\"Wartość p-value:\", p_value)\n",
    "alpha = 0.05\n",
    "if p_value > alpha:\n",
    "    print(\"Dane wydają się pochodzić z rozkładu normalnego.\")\n",
    "else:\n",
    "    print(\"Dane nie wydają się pochodzić z rozkładu normalnego.\")"
   ]
  },
  {
   "attachments": {},
   "cell_type": "markdown",
   "metadata": {},
   "source": [
    "#### Wybór testu c.d.\n",
    "Dane ponownie nie wydają się pochodzić z testu normalnego. Dlatego wybieramy test nieparametryczny Mann-Whitneya.\n",
    "#### Test Mann-Whitneya\n",
    "**$H_0$** - nie ma istotnej różnicy pomiedzy dwoma populacjiami <br>\n",
    "**$H_1$** - istnieje istotna różnica pomiedzy dwoma populacjami <br>\n",
    "**Grupa 1** - przed 2010 (przed serwisami streamingowymi) <br>\n",
    "**Grupa 2** - po 2010 (po serwisami streamingowymi) <br>\n",
    "$\\alpha = 0.5$"
   ]
  },
  {
   "cell_type": "code",
   "execution_count": 36,
   "metadata": {},
   "outputs": [
    {
     "name": "stdout",
     "output_type": "stream",
     "text": [
      "Statystyka testowa U: 785510.5\n",
      "Wartość p-value: 0.0000000000\n",
      "Obserwowane różnice między grupami są istotne.\n"
     ]
    }
   ],
   "source": [
    "songs_top_10['data'] = pd.to_datetime(songs_top_10['data'])\n",
    "data1 = songs_top_10[songs_top_10['data'] < '2010-01-01']\n",
    "data2 = songs_top_10[songs_top_10['data'] >= '2010-01-01']\n",
    "stat, p_value = stats.mannwhitneyu(data1['lirycznosc'], data2['lirycznosc'])\n",
    "print(\"Statystyka testowa U:\", stat)\n",
    "print(\"Wartość p-value:\", '%.10f' % p_value)\n",
    "alpha = 0.05\n",
    "if p_value > alpha:\n",
    "    print(\"Brak istotnych różnic między grupami.\")\n",
    "else:\n",
    "    print(\"Obserwowane różnice między grupami są istotne.\")"
   ]
  },
  {
   "attachments": {},
   "cell_type": "markdown",
   "metadata": {},
   "source": [
    "#### Wątpliwości\n",
    "Według testu są różnice pomiedzy dwoma populacjiami, jednak według wykresów nie ma dużej różnicy w liryczności utworów pomiedzy wprowadzeniem mp3 a serwisami streamingowymi. Sprawdzmy to jeszcze raz ale tym razem w przypadku grupy 2 weźmiemy przedział 2000-2010\n",
    "#### Test Mann-Whitneya\n",
    "**$H_0$** - nie ma istotnej różnicy pomiedzy dwoma populacjiami <br>\n",
    "**$H_1$** - istnieje istotna różnica pomiedzy dwoma populacjami <br>\n",
    "**Grupa 1** - 2000-2010 (przed serwisami streamingowymi, po mp3) <br>\n",
    "**Grupa 2** - po 2010 (po serwisami streamingowymi) <br>\n",
    "$\\alpha = 0.5$"
   ]
  },
  {
   "cell_type": "code",
   "execution_count": 45,
   "metadata": {},
   "outputs": [
    {
     "name": "stdout",
     "output_type": "stream",
     "text": [
      "Statystyka testowa U: 184358.5\n",
      "Wartość p-value: 0.2221349121\n",
      "Brak istotnych różnic między grupami.\n"
     ]
    }
   ],
   "source": [
    "songs_top_10['data'] = pd.to_datetime(songs_top_10['data'])\n",
    "data1 = songs_top_10[songs_top_10['data'] < '2010-01-01']\n",
    "data1 = data1[data1['data'] >= '2000-01-01']\n",
    "data2 = songs_top_10[songs_top_10['data'] >= '2010-01-01']\n",
    "stat, p_value = stats.mannwhitneyu(data1['lirycznosc'], data2['lirycznosc'])\n",
    "print(\"Statystyka testowa U:\", stat)\n",
    "print(\"Wartość p-value:\", '%.10f' % p_value)\n",
    "alpha = 0.05\n",
    "if p_value > alpha:\n",
    "    print(\"Brak istotnych różnic między grupami.\")\n",
    "else:\n",
    "    print(\"Obserwowane różnice między grupami są istotne.\")"
   ]
  },
  {
   "attachments": {},
   "cell_type": "markdown",
   "metadata": {},
   "source": [
    "#### Wnioski z drugiego testu\n",
    "P-value jest większe niż alpha więc nie odrzucamy $H_0$. W takim razie nie ma zmiany pomiedzy wprowadzeniem mp3 a wprowadzeniem serwisów streamingowych. Sprawdzmy czy jest różnica statystyczna miedzy wprowadzeniem mp3 a lirycznością.\n",
    "#### Test Mann-Whitneya\n",
    "**$H_0$** - nie ma istotnej różnicy pomiedzy dwoma populacjiami <br>\n",
    "**$H_1$** - istnieje istotna różnica pomiedzy dwoma populacjami <br>\n",
    "**Grupa 1** - przed 2000 <br>\n",
    "**Grupa 2** - po 2000 <br>\n",
    "$\\alpha = 0.5$"
   ]
  },
  {
   "cell_type": "code",
   "execution_count": 46,
   "metadata": {},
   "outputs": [
    {
     "name": "stdout",
     "output_type": "stream",
     "text": [
      "Statystyka testowa U: 1211966.0\n",
      "Wartość p-value: 0.0000000000\n",
      "Obserwowane różnice między grupami są istotne.\n"
     ]
    }
   ],
   "source": [
    "songs_top_10['data'] = pd.to_datetime(songs_top_10['data'])\n",
    "data1 = songs_top_10[songs_top_10['data'] < '2000-01-01']\n",
    "data2 = songs_top_10[songs_top_10['data'] >= '2000-01-01']\n",
    "stat, p_value = stats.mannwhitneyu(data1['lirycznosc'], data2['lirycznosc'])\n",
    "print(\"Statystyka testowa U:\", stat)\n",
    "print(\"Wartość p-value:\", '%.10f' % p_value)\n",
    "alpha = 0.05\n",
    "if p_value > alpha:\n",
    "    print(\"Brak istotnych różnic między grupami.\")\n",
    "else:\n",
    "    print(\"Obserwowane różnice między grupami są istotne.\")"
   ]
  },
  {
   "attachments": {},
   "cell_type": "markdown",
   "metadata": {},
   "source": [
    "#### Wnioski po wszystkich testach\n",
    "Po wprowadzeniu serwisów streamingowych liryczność utworów się nie zmieniła, proces ten zaczął pojawiać się już po wprowadzeniu mp3.\n",
    "### Instrumentalność a serwisy streamingowe\n",
    "Ponownie porównamy dane z roku 2000-2010 z danymi po 2010. Jest to bardziej wiarygodne.\n",
    "#### Wybór testu\n",
    "Powtarzamy krok pierwszy z poprzednich testów.\n",
    "#### Test Shapiro-Wilka\n",
    "$H_0$ - dane są opisane rozkładem normalnym <br>\n",
    "$H_1$ - dane nie są opisane rozkładem normalnym <br>\n",
    "$\\alpha = 0.5$"
   ]
  },
  {
   "cell_type": "code",
   "execution_count": 47,
   "metadata": {},
   "outputs": [
    {
     "name": "stdout",
     "output_type": "stream",
     "text": [
      "Statystyka testowa: 0.2561796307563782\n",
      "Wartość p-value: 0.0\n",
      "Dane nie wydają się pochodzić z rozkładu normalnego.\n"
     ]
    }
   ],
   "source": [
    "data = songs_top_10['instrumentalnosc']\n",
    "stat, p_value = stats.shapiro(data)\n",
    "print(\"Statystyka testowa:\", stat)\n",
    "print(\"Wartość p-value:\", p_value)\n",
    "alpha = 0.05\n",
    "if p_value > alpha:\n",
    "    print(\"Dane wydają się pochodzić z rozkładu normalnego.\")\n",
    "else:\n",
    "    print(\"Dane nie wydają się pochodzić z rozkładu normalnego.\")"
   ]
  },
  {
   "attachments": {},
   "cell_type": "markdown",
   "metadata": {},
   "source": [
    "#### Wybór testu c.d.\n",
    "Dane ponownie nie pochodzą z rozkłądu normalnego wybieramy zatem test nieparametryczny Mann-Whitneya.\n",
    "#### Test Mann-Whitneya\n",
    "**$H_0$** - nie ma istotnej różnicy pomiedzy dwoma populacjiami <br>\n",
    "**$H_1$** - istnieje istotna różnica pomiedzy dwoma populacjami <br>\n",
    "**Grupa 1** - 2000 - 2010 (przed serwisami streamingowym, po mp3) <br>\n",
    "**Grupa 2** - po 2010 (po serwisami streamingowymi)<br>\n",
    "$\\alpha = 0.5$"
   ]
  },
  {
   "cell_type": "code",
   "execution_count": 55,
   "metadata": {},
   "outputs": [
    {
     "name": "stdout",
     "output_type": "stream",
     "text": [
      "Statystyka testowa U: 199417.5\n",
      "Wartość p-value: 0.1822215346\n",
      "Brak istotnych różnic między grupami.\n"
     ]
    }
   ],
   "source": [
    "songs_top_10['data'] = pd.to_datetime(songs_top_10['data'])\n",
    "data1 = songs_top_10[songs_top_10['data'] < '2010-01-01']\n",
    "data1 = data1[data1['data'] >= '2000-01-01']\n",
    "data2 = songs_top_10[songs_top_10['data'] >= '2010-01-01']\n",
    "stat, p_value = stats.mannwhitneyu(data1['instrumentalnosc'], data2['instrumentalnosc'])\n",
    "print(\"Statystyka testowa U:\", stat)\n",
    "print(\"Wartość p-value:\", '%.10f' % p_value)\n",
    "alpha = 0.05\n",
    "if p_value > alpha:\n",
    "    print(\"Brak istotnych różnic między grupami.\")\n",
    "else:\n",
    "    print(\"Obserwowane różnice między grupami są istotne.\")"
   ]
  },
  {
   "attachments": {},
   "cell_type": "markdown",
   "metadata": {},
   "source": [
    "#### Wnioski \n",
    "Ponownie obserwujemy brak różnic miedzy erą mp3 a serwisami streamingowymi"
   ]
  },
  {
   "attachments": {},
   "cell_type": "markdown",
   "metadata": {},
   "source": [
    "### Długość utworu a serwisy streamingowe\n",
    "#### Wybór testu\n",
    "Powtarzamy krok pierwszy z poprzednich testów.\n",
    "#### Test Shapiro-Wilka\n",
    "$H_0$ - dane są opisane rozkładem normalnym <br>\n",
    "$H_1$ - dane nie są opisane rozkładem normalnym <br>\n",
    "$\\alpha = 0.5$"
   ]
  },
  {
   "cell_type": "code",
   "execution_count": 56,
   "metadata": {},
   "outputs": [
    {
     "name": "stdout",
     "output_type": "stream",
     "text": [
      "Statystyka testowa: 0.7488442659378052\n",
      "Wartość p-value: 0.0\n",
      "Dane nie wydają się pochodzić z rozkładu normalnego.\n"
     ]
    }
   ],
   "source": [
    "data = songs_top_10['czas-trwania-m']\n",
    "stat, p_value = stats.shapiro(data)\n",
    "print(\"Statystyka testowa:\", stat)\n",
    "print(\"Wartość p-value:\", p_value)\n",
    "alpha = 0.05\n",
    "if p_value > alpha:\n",
    "    print(\"Dane wydają się pochodzić z rozkładu normalnego.\")\n",
    "else:\n",
    "    print(\"Dane nie wydają się pochodzić z rozkładu normalnego.\")"
   ]
  },
  {
   "attachments": {},
   "cell_type": "markdown",
   "metadata": {},
   "source": [
    "#### Wybór testu c.d.\n",
    "Dane ponownie nie pochodzą z rozkłądu normalnego wybieramy zatem test nieparametryczny Mann-Whitneya.\n",
    "#### Test Mann-Whitneya\n",
    "**$H_0$** - nie ma istotnej różnicy pomiedzy dwoma populacjiami <br>\n",
    "**$H_1$** - istnieje istotna różnica pomiedzy dwoma populacjami <br>\n",
    "**Grupa 1** - 2000 - 2010 (przed serwisami streamingowym, po mp3) <br>\n",
    "**Grupa 2** - po 2010 (po serwisami streamingowymi)<br>\n",
    "$\\alpha = 0.5$"
   ]
  },
  {
   "cell_type": "code",
   "execution_count": 57,
   "metadata": {},
   "outputs": [
    {
     "name": "stdout",
     "output_type": "stream",
     "text": [
      "Statystyka testowa U: 256234.5\n",
      "Wartość p-value: 0.0000000000\n",
      "Obserwowane różnice między grupami są istotne.\n"
     ]
    }
   ],
   "source": [
    "songs_top_10['data'] = pd.to_datetime(songs_top_10['data'])\n",
    "data1 = songs_top_10[songs_top_10['data'] < '2010-01-01']\n",
    "data1 = data1[data1['data'] >= '2000-01-01']\n",
    "data2 = songs_top_10[songs_top_10['data'] >= '2010-01-01']\n",
    "stat, p_value = stats.mannwhitneyu(data1['czas-trwania-m'], data2['czas-trwania-m'])\n",
    "print(\"Statystyka testowa U:\", stat)\n",
    "print(\"Wartość p-value:\", '%.10f' % p_value)\n",
    "alpha = 0.05\n",
    "if p_value > alpha:\n",
    "    print(\"Brak istotnych różnic między grupami.\")\n",
    "else:\n",
    "    print(\"Obserwowane różnice między grupami są istotne.\")"
   ]
  },
  {
   "attachments": {},
   "cell_type": "markdown",
   "metadata": {},
   "source": [
    "#### Wnioski\n",
    "Tym razem po wprowadzeniu serwisów streamingowych zaszły różnice pomiedzy długością utworów. Po wprowadzeniu serwisów streamingowych utwory stały się krótsze.\n",
    "### Wnioski z wpływu serwisów streamingowych\n",
    "Po wprowadzeniach serwisów streamingowych nie widać dużych zmian w utworach. Jedyną istotną zmiana jest długość utworu. Jednak może on być spowodowany innym czynnikiem.\n",
    "## Wnioski z testów statystycznych\n",
    "Pojawienie się nowych instrumentów muzycznych mogło mieć duży wpływ na wyparcie utworów akustycznych przez elektroniczne. Duży wpływ na muzykę na pewno miałą era mp3, która zwiekszyła dostępność do myzyki. Może przez to muzyka jest bardziej liryczna oraz dłużej gości na listach najlpopularniejszych utworów. Co ciekawe wprowadzenie serwisów streamingowych nie miało dużego wpływu na muzykę. Jedyną zmianą jest długość utworów, które stały się krótsze. Jednak może to być spowodowane innym czynnikiem."
   ]
  },
  {
   "attachments": {},
   "cell_type": "markdown",
   "metadata": {},
   "source": [
    "## "
   ]
  }
 ],
 "metadata": {
  "kernelspec": {
   "display_name": "Python 3",
   "language": "python",
   "name": "python3"
  },
  "language_info": {
   "codemirror_mode": {
    "name": "ipython",
    "version": 3
   },
   "file_extension": ".py",
   "mimetype": "text/x-python",
   "name": "python",
   "nbconvert_exporter": "python",
   "pygments_lexer": "ipython3",
   "version": "3.10.7"
  },
  "orig_nbformat": 4
 },
 "nbformat": 4,
 "nbformat_minor": 2
}
