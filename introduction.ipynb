{
 "cells": [
  {
   "attachments": {},
   "cell_type": "markdown",
   "metadata": {},
   "source": [
    "# Wprowadzenie\n",
    "## Cel\n",
    "Celem analizy jest zbadanie wpływu dostępnych mediów słuchania muzyki na najpopularniejsze piosenki oraz analiza najpopularniejszych piosenek . <br>\n",
    "W tym celu zostaną przeanalizowane dane dotyczące notowań listy Hot 100 Billboard od 1958 roku do 2021 roku. Hot 100 Billboard to lista najpopularniejszych utworów (wyliczany na podstawie radia, streamingów oraz sprzedanych płyt)w US<br>\n",
    "### Sposoby słuchania muzyki w przeciągu lat\n",
    "* 1958 - 1963 - radio, płyty winylowe\n",
    "* 1964 - 1979 - radio, płyty winylowe, kasety\n",
    "* 1980 - 1999 - radio, płyty winylowe, kasety, CD\n",
    "* 2000 - 2010 - radio, płyty winylowe, kasety, CD, MP3\n",
    "* 2011 - 2021 - radio, płyty winylowe, kasety, CD, MP3, streaming\n",
    "### Dostępność mediów dla ludzi\n",
    "streaming > mp3 > radio > cd > kasety > płyty winylowe\n",
    "### Charakterystyki niektórych mediów\n",
    "* streaming - artysta ma płacone za każdą odsłuchaną piosenkę tylko wtedy gdy użytkownik przesłucha powyżej 30 sekund\n",
    "* radio - średnio puszczanę są krótsze piosenki oraz bardziej energiczne aby przyciągnąć słuchaczy\n",
    "* płyty winylowe - długość piosenek jest ograniczona do 20 minut\n",
    "* mp3 - era mp3 to era nielegalnego pobierania muzyki z internetu i kopiowania\n",
    "* kasety - kopiowanie muzyki na kasety było bardzo proste i powszechne\n",
    "## Dane\n",
    "Został on podzielony na dwa zestawy: \n",
    "* `charts.csv` - zawiera dane dotyczące notowań wszystkich piosenek, które znalazły się na liście Hot 100 Billboard. Pochodzą one z [Kaggle](https://www.kaggle.com/dhruvildave/billboard-the-hot-100-songs) zebrane przez Dhruvil Dave\n",
    "* `charts_top_10.csv` - jest bardziej szczegółowym zestawieniem gdzie zostały uwzględnione tylko 10 pierwszych pozycji z ich cechami o samym utworze. Dane zostały pobrane z [Spotify API](https://developer.spotify.com/documentation/web-api) za pomocą skryptów dostępnych w folderze `data_extenders`.\n",
    "* `songs.csv` - zawiera wszystkie piosenki z notowań z najlepszym rankingiem oraz liczbą tygodni na liście. Co ważne piosenki są unikalne, tzn. jeśli piosenka była na liście kilka razy to jest tylko jeden wpis z najwyższym rankingiem, największą liczbą tygodni na liście oraz ostatnim wystąpieniem na liście. \n",
    "* `songs_top_10.csv` - analogiczny plik do `songs.csv` tylko z uwzględnieniem tylko 10 pierwszych pozycji z ich cechami o samym utworze.\n",
    "## Opis poszczególnych cech\n",
    "- `date` - data notowania\n",
    "- `rank` - pozycja na liście\n",
    "- `title` - tytuł piosenki\n",
    "- `artist` - wykonawca\n",
    "- `last_week` - pozycja na liście w poprzednim tygodniu\n",
    "- `peak_rank` - najwyższa pozycja na liście\n",
    "- `weeks_on_chart` - liczba tygodni na liście\n",
    "- `danceability` - określa jak łatwo jest tańczyć do utworu (wartosć od 0 do 1)\n",
    "- `energy` - określa poziom energii w utworze (wartosć od 0 do 1)\n",
    "- `acousticness` - pewność czy utwór jest akustyczny (wartosć od 0 do 1)\n",
    "- `instrumentalness` - przewiduje czy utwór nie zawiera wokalu (wartosć od 0 do 1). Wartości powyżej 0.5 są uznawane za instrumentalne, ale wartości powyżej 0.9 wskazują na bardzo wysoki poziom pewności.\n",
    "- `speechiness` - wykrywa obecność słów mówionych w utworze (wartosć od 0 do 1). Wartosc powyżej 0,66 opisuje ścieżki wyłacznie z mówionymi słowami. Wartości między 0,33 a 0,66 opisują utwory zawierające zarówno muzykę, jak i mowę.\n",
    "- `duraton_ms` - długość utworu w milisekundach\n",
    "<br> Więcej informacji na temat cech można znaleźć w [dokumentacji Spotify API](https://developer.spotify.com/documentation/web-api/reference/get-audio-features)\n",
    "<br> Liczba populacji to **330 087**\n",
    "### Wczytywanie danych"
   ]
  },
  {
   "cell_type": "code",
   "execution_count": null,
   "metadata": {},
   "outputs": [],
   "source": [
    "import pandas as pd\n",
    "base = pd.read_csv('charts.csv')\n",
    "extended = pd.read_csv('charts_top_10.csv')\n",
    "songs = pd.read_csv('songs.csv')\n",
    "extended_songs = pd.read_csv('songs_top_10.csv')"
   ]
  },
  {
   "attachments": {},
   "cell_type": "markdown",
   "metadata": {},
   "source": [
    "## Spis analiz\n",
    "* w folderze `exploratory_analysis` znajduą się analizy eksploracyjne danych\n",
    "* w folderze `statisical_testing` zanjdują się testy statystyczne danych"
   ]
  }
 ],
 "metadata": {
  "kernelspec": {
   "display_name": "Python 3",
   "language": "python",
   "name": "python3"
  },
  "language_info": {
   "name": "python",
   "version": "3.10.7"
  },
  "orig_nbformat": 4
 },
 "nbformat": 4,
 "nbformat_minor": 2
}
